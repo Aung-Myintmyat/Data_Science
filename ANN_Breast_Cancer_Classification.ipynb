{
 "cells": [
  {
   "cell_type": "markdown",
   "id": "e49b1170-47db-4af0-a794-e388e8e143bd",
   "metadata": {},
   "source": [
    "# Breast Cancer Prediction\n",
    "\n",
    "![alt text](breast_cancer.webp \"Title\")\n",
    "\n",
    "https://medium.com/analytics-vidhya/breast-cancer-diagnostic-dataset-eda-fa0de80f15bd"
   ]
  },
  {
   "cell_type": "markdown",
   "id": "893a1c04-7ca5-4d66-abe3-9658cdcfea95",
   "metadata": {},
   "source": [
    "# 1. Import Libraries"
   ]
  },
  {
   "cell_type": "code",
   "execution_count": 120,
   "id": "2766415c-e63a-4dcb-b28d-687867509822",
   "metadata": {},
   "outputs": [],
   "source": [
    "import numpy as np\n",
    "import pandas as pd\n",
    "import matplotlib.pyplot as plt\n",
    "from sklearn.datasets import load_breast_cancer\n",
    "from sklearn.model_selection import train_test_split\n",
    "from sklearn.preprocessing import StandardScaler\n",
    "from sklearn.metrics import classification_report, accuracy_score, confusion_matrix\n",
    "from tensorflow.keras.models import Sequential \n",
    "from tensorflow.keras.layers import Input, Dense"
   ]
  },
  {
   "cell_type": "markdown",
   "id": "106315bb-b9bb-4387-bddf-94a36b76c86c",
   "metadata": {},
   "source": [
    "# 2. Load and Prepare the Dataset"
   ]
  },
  {
   "cell_type": "code",
   "execution_count": 121,
   "id": "c6e8cabd-5b69-4e51-825e-4f6a466d829e",
   "metadata": {},
   "outputs": [],
   "source": [
    "data = load_breast_cancer()"
   ]
  },
  {
   "cell_type": "code",
   "execution_count": 125,
   "id": "23b776c1-6c2f-40a3-9259-ad929e6498f7",
   "metadata": {},
   "outputs": [],
   "source": [
    "# Load the breast cancer dataset\n",
    "data = load_breast_cancer()\n",
    "X = data.data\n",
    "y = data.target"
   ]
  },
  {
   "cell_type": "code",
   "execution_count": 126,
   "id": "e719466a-8f40-4285-a2f4-5c9a0247ab09",
   "metadata": {},
   "outputs": [],
   "source": [
    "# Convert to DataFrame for easier handling (optional)\n",
    "df = pd.DataFrame(X, columns=data.feature_names)\n",
    "df['target'] = y"
   ]
  },
  {
   "cell_type": "code",
   "execution_count": 127,
   "id": "cdef088a-32d8-4494-b92c-4dd377c792a6",
   "metadata": {},
   "outputs": [
    {
     "data": {
      "text/html": [
       "<div>\n",
       "<style scoped>\n",
       "    .dataframe tbody tr th:only-of-type {\n",
       "        vertical-align: middle;\n",
       "    }\n",
       "\n",
       "    .dataframe tbody tr th {\n",
       "        vertical-align: top;\n",
       "    }\n",
       "\n",
       "    .dataframe thead th {\n",
       "        text-align: right;\n",
       "    }\n",
       "</style>\n",
       "<table border=\"1\" class=\"dataframe\">\n",
       "  <thead>\n",
       "    <tr style=\"text-align: right;\">\n",
       "      <th></th>\n",
       "      <th>mean radius</th>\n",
       "      <th>mean texture</th>\n",
       "      <th>mean perimeter</th>\n",
       "      <th>mean area</th>\n",
       "      <th>mean smoothness</th>\n",
       "      <th>mean compactness</th>\n",
       "      <th>mean concavity</th>\n",
       "      <th>mean concave points</th>\n",
       "      <th>mean symmetry</th>\n",
       "      <th>mean fractal dimension</th>\n",
       "      <th>...</th>\n",
       "      <th>worst texture</th>\n",
       "      <th>worst perimeter</th>\n",
       "      <th>worst area</th>\n",
       "      <th>worst smoothness</th>\n",
       "      <th>worst compactness</th>\n",
       "      <th>worst concavity</th>\n",
       "      <th>worst concave points</th>\n",
       "      <th>worst symmetry</th>\n",
       "      <th>worst fractal dimension</th>\n",
       "      <th>target</th>\n",
       "    </tr>\n",
       "  </thead>\n",
       "  <tbody>\n",
       "    <tr>\n",
       "      <th>0</th>\n",
       "      <td>17.99</td>\n",
       "      <td>10.38</td>\n",
       "      <td>122.80</td>\n",
       "      <td>1001.0</td>\n",
       "      <td>0.11840</td>\n",
       "      <td>0.27760</td>\n",
       "      <td>0.3001</td>\n",
       "      <td>0.14710</td>\n",
       "      <td>0.2419</td>\n",
       "      <td>0.07871</td>\n",
       "      <td>...</td>\n",
       "      <td>17.33</td>\n",
       "      <td>184.60</td>\n",
       "      <td>2019.0</td>\n",
       "      <td>0.1622</td>\n",
       "      <td>0.6656</td>\n",
       "      <td>0.7119</td>\n",
       "      <td>0.2654</td>\n",
       "      <td>0.4601</td>\n",
       "      <td>0.11890</td>\n",
       "      <td>0</td>\n",
       "    </tr>\n",
       "    <tr>\n",
       "      <th>1</th>\n",
       "      <td>20.57</td>\n",
       "      <td>17.77</td>\n",
       "      <td>132.90</td>\n",
       "      <td>1326.0</td>\n",
       "      <td>0.08474</td>\n",
       "      <td>0.07864</td>\n",
       "      <td>0.0869</td>\n",
       "      <td>0.07017</td>\n",
       "      <td>0.1812</td>\n",
       "      <td>0.05667</td>\n",
       "      <td>...</td>\n",
       "      <td>23.41</td>\n",
       "      <td>158.80</td>\n",
       "      <td>1956.0</td>\n",
       "      <td>0.1238</td>\n",
       "      <td>0.1866</td>\n",
       "      <td>0.2416</td>\n",
       "      <td>0.1860</td>\n",
       "      <td>0.2750</td>\n",
       "      <td>0.08902</td>\n",
       "      <td>0</td>\n",
       "    </tr>\n",
       "    <tr>\n",
       "      <th>2</th>\n",
       "      <td>19.69</td>\n",
       "      <td>21.25</td>\n",
       "      <td>130.00</td>\n",
       "      <td>1203.0</td>\n",
       "      <td>0.10960</td>\n",
       "      <td>0.15990</td>\n",
       "      <td>0.1974</td>\n",
       "      <td>0.12790</td>\n",
       "      <td>0.2069</td>\n",
       "      <td>0.05999</td>\n",
       "      <td>...</td>\n",
       "      <td>25.53</td>\n",
       "      <td>152.50</td>\n",
       "      <td>1709.0</td>\n",
       "      <td>0.1444</td>\n",
       "      <td>0.4245</td>\n",
       "      <td>0.4504</td>\n",
       "      <td>0.2430</td>\n",
       "      <td>0.3613</td>\n",
       "      <td>0.08758</td>\n",
       "      <td>0</td>\n",
       "    </tr>\n",
       "    <tr>\n",
       "      <th>3</th>\n",
       "      <td>11.42</td>\n",
       "      <td>20.38</td>\n",
       "      <td>77.58</td>\n",
       "      <td>386.1</td>\n",
       "      <td>0.14250</td>\n",
       "      <td>0.28390</td>\n",
       "      <td>0.2414</td>\n",
       "      <td>0.10520</td>\n",
       "      <td>0.2597</td>\n",
       "      <td>0.09744</td>\n",
       "      <td>...</td>\n",
       "      <td>26.50</td>\n",
       "      <td>98.87</td>\n",
       "      <td>567.7</td>\n",
       "      <td>0.2098</td>\n",
       "      <td>0.8663</td>\n",
       "      <td>0.6869</td>\n",
       "      <td>0.2575</td>\n",
       "      <td>0.6638</td>\n",
       "      <td>0.17300</td>\n",
       "      <td>0</td>\n",
       "    </tr>\n",
       "    <tr>\n",
       "      <th>4</th>\n",
       "      <td>20.29</td>\n",
       "      <td>14.34</td>\n",
       "      <td>135.10</td>\n",
       "      <td>1297.0</td>\n",
       "      <td>0.10030</td>\n",
       "      <td>0.13280</td>\n",
       "      <td>0.1980</td>\n",
       "      <td>0.10430</td>\n",
       "      <td>0.1809</td>\n",
       "      <td>0.05883</td>\n",
       "      <td>...</td>\n",
       "      <td>16.67</td>\n",
       "      <td>152.20</td>\n",
       "      <td>1575.0</td>\n",
       "      <td>0.1374</td>\n",
       "      <td>0.2050</td>\n",
       "      <td>0.4000</td>\n",
       "      <td>0.1625</td>\n",
       "      <td>0.2364</td>\n",
       "      <td>0.07678</td>\n",
       "      <td>0</td>\n",
       "    </tr>\n",
       "  </tbody>\n",
       "</table>\n",
       "<p>5 rows × 31 columns</p>\n",
       "</div>"
      ],
      "text/plain": [
       "   mean radius  mean texture  mean perimeter  mean area  mean smoothness  \\\n",
       "0        17.99         10.38          122.80     1001.0          0.11840   \n",
       "1        20.57         17.77          132.90     1326.0          0.08474   \n",
       "2        19.69         21.25          130.00     1203.0          0.10960   \n",
       "3        11.42         20.38           77.58      386.1          0.14250   \n",
       "4        20.29         14.34          135.10     1297.0          0.10030   \n",
       "\n",
       "   mean compactness  mean concavity  mean concave points  mean symmetry  \\\n",
       "0           0.27760          0.3001              0.14710         0.2419   \n",
       "1           0.07864          0.0869              0.07017         0.1812   \n",
       "2           0.15990          0.1974              0.12790         0.2069   \n",
       "3           0.28390          0.2414              0.10520         0.2597   \n",
       "4           0.13280          0.1980              0.10430         0.1809   \n",
       "\n",
       "   mean fractal dimension  ...  worst texture  worst perimeter  worst area  \\\n",
       "0                 0.07871  ...          17.33           184.60      2019.0   \n",
       "1                 0.05667  ...          23.41           158.80      1956.0   \n",
       "2                 0.05999  ...          25.53           152.50      1709.0   \n",
       "3                 0.09744  ...          26.50            98.87       567.7   \n",
       "4                 0.05883  ...          16.67           152.20      1575.0   \n",
       "\n",
       "   worst smoothness  worst compactness  worst concavity  worst concave points  \\\n",
       "0            0.1622             0.6656           0.7119                0.2654   \n",
       "1            0.1238             0.1866           0.2416                0.1860   \n",
       "2            0.1444             0.4245           0.4504                0.2430   \n",
       "3            0.2098             0.8663           0.6869                0.2575   \n",
       "4            0.1374             0.2050           0.4000                0.1625   \n",
       "\n",
       "   worst symmetry  worst fractal dimension  target  \n",
       "0          0.4601                  0.11890       0  \n",
       "1          0.2750                  0.08902       0  \n",
       "2          0.3613                  0.08758       0  \n",
       "3          0.6638                  0.17300       0  \n",
       "4          0.2364                  0.07678       0  \n",
       "\n",
       "[5 rows x 31 columns]"
      ]
     },
     "execution_count": 127,
     "metadata": {},
     "output_type": "execute_result"
    }
   ],
   "source": [
    "df.head()"
   ]
  },
  {
   "cell_type": "code",
   "execution_count": 55,
   "id": "c7027ea9-5af6-4e82-ac8b-48d3e20dc2bd",
   "metadata": {},
   "outputs": [
    {
     "data": {
      "text/plain": [
       "dict_keys(['data', 'target', 'frame', 'target_names', 'DESCR', 'feature_names', 'filename', 'data_module'])"
      ]
     },
     "execution_count": 55,
     "metadata": {},
     "output_type": "execute_result"
    }
   ],
   "source": [
    "data.keys()"
   ]
  },
  {
   "cell_type": "code",
   "execution_count": 57,
   "id": "da5b01f1-4eeb-474c-9abe-7af8536cc43f",
   "metadata": {},
   "outputs": [
    {
     "data": {
      "text/plain": [
       "array(['malignant', 'benign'], dtype='<U9')"
      ]
     },
     "execution_count": 57,
     "metadata": {},
     "output_type": "execute_result"
    }
   ],
   "source": [
    "data.target_names"
   ]
  },
  {
   "cell_type": "code",
   "execution_count": 128,
   "id": "74fbd9d7-ef31-4850-8b74-cbeffb4a20cc",
   "metadata": {},
   "outputs": [
    {
     "name": "stdout",
     "output_type": "stream",
     "text": [
      "<class 'pandas.core.frame.DataFrame'>\n",
      "RangeIndex: 569 entries, 0 to 568\n",
      "Data columns (total 31 columns):\n",
      " #   Column                   Non-Null Count  Dtype  \n",
      "---  ------                   --------------  -----  \n",
      " 0   mean radius              569 non-null    float64\n",
      " 1   mean texture             569 non-null    float64\n",
      " 2   mean perimeter           569 non-null    float64\n",
      " 3   mean area                569 non-null    float64\n",
      " 4   mean smoothness          569 non-null    float64\n",
      " 5   mean compactness         569 non-null    float64\n",
      " 6   mean concavity           569 non-null    float64\n",
      " 7   mean concave points      569 non-null    float64\n",
      " 8   mean symmetry            569 non-null    float64\n",
      " 9   mean fractal dimension   569 non-null    float64\n",
      " 10  radius error             569 non-null    float64\n",
      " 11  texture error            569 non-null    float64\n",
      " 12  perimeter error          569 non-null    float64\n",
      " 13  area error               569 non-null    float64\n",
      " 14  smoothness error         569 non-null    float64\n",
      " 15  compactness error        569 non-null    float64\n",
      " 16  concavity error          569 non-null    float64\n",
      " 17  concave points error     569 non-null    float64\n",
      " 18  symmetry error           569 non-null    float64\n",
      " 19  fractal dimension error  569 non-null    float64\n",
      " 20  worst radius             569 non-null    float64\n",
      " 21  worst texture            569 non-null    float64\n",
      " 22  worst perimeter          569 non-null    float64\n",
      " 23  worst area               569 non-null    float64\n",
      " 24  worst smoothness         569 non-null    float64\n",
      " 25  worst compactness        569 non-null    float64\n",
      " 26  worst concavity          569 non-null    float64\n",
      " 27  worst concave points     569 non-null    float64\n",
      " 28  worst symmetry           569 non-null    float64\n",
      " 29  worst fractal dimension  569 non-null    float64\n",
      " 30  target                   569 non-null    int32  \n",
      "dtypes: float64(30), int32(1)\n",
      "memory usage: 135.7 KB\n"
     ]
    }
   ],
   "source": [
    "df.info()"
   ]
  },
  {
   "cell_type": "code",
   "execution_count": 129,
   "id": "5c50ec72-6aa9-4ea4-bc93-07953f9c98f5",
   "metadata": {},
   "outputs": [
    {
     "data": {
      "text/plain": [
       "mean radius                0\n",
       "mean texture               0\n",
       "mean perimeter             0\n",
       "mean area                  0\n",
       "mean smoothness            0\n",
       "mean compactness           0\n",
       "mean concavity             0\n",
       "mean concave points        0\n",
       "mean symmetry              0\n",
       "mean fractal dimension     0\n",
       "radius error               0\n",
       "texture error              0\n",
       "perimeter error            0\n",
       "area error                 0\n",
       "smoothness error           0\n",
       "compactness error          0\n",
       "concavity error            0\n",
       "concave points error       0\n",
       "symmetry error             0\n",
       "fractal dimension error    0\n",
       "worst radius               0\n",
       "worst texture              0\n",
       "worst perimeter            0\n",
       "worst area                 0\n",
       "worst smoothness           0\n",
       "worst compactness          0\n",
       "worst concavity            0\n",
       "worst concave points       0\n",
       "worst symmetry             0\n",
       "worst fractal dimension    0\n",
       "label                      0\n",
       "dtype: int64"
      ]
     },
     "execution_count": 129,
     "metadata": {},
     "output_type": "execute_result"
    }
   ],
   "source": [
    "data_frame.isnull().sum()"
   ]
  },
  {
   "cell_type": "code",
   "execution_count": 130,
   "id": "0cedee13-463d-40a1-8973-6ea878015493",
   "metadata": {},
   "outputs": [
    {
     "data": {
      "text/html": [
       "<div>\n",
       "<style scoped>\n",
       "    .dataframe tbody tr th:only-of-type {\n",
       "        vertical-align: middle;\n",
       "    }\n",
       "\n",
       "    .dataframe tbody tr th {\n",
       "        vertical-align: top;\n",
       "    }\n",
       "\n",
       "    .dataframe thead th {\n",
       "        text-align: right;\n",
       "    }\n",
       "</style>\n",
       "<table border=\"1\" class=\"dataframe\">\n",
       "  <thead>\n",
       "    <tr style=\"text-align: right;\">\n",
       "      <th></th>\n",
       "      <th>mean radius</th>\n",
       "      <th>mean texture</th>\n",
       "      <th>mean perimeter</th>\n",
       "      <th>mean area</th>\n",
       "      <th>mean smoothness</th>\n",
       "      <th>mean compactness</th>\n",
       "      <th>mean concavity</th>\n",
       "      <th>mean concave points</th>\n",
       "      <th>mean symmetry</th>\n",
       "      <th>mean fractal dimension</th>\n",
       "      <th>...</th>\n",
       "      <th>worst texture</th>\n",
       "      <th>worst perimeter</th>\n",
       "      <th>worst area</th>\n",
       "      <th>worst smoothness</th>\n",
       "      <th>worst compactness</th>\n",
       "      <th>worst concavity</th>\n",
       "      <th>worst concave points</th>\n",
       "      <th>worst symmetry</th>\n",
       "      <th>worst fractal dimension</th>\n",
       "      <th>label</th>\n",
       "    </tr>\n",
       "  </thead>\n",
       "  <tbody>\n",
       "    <tr>\n",
       "      <th>count</th>\n",
       "      <td>569.000</td>\n",
       "      <td>569.000</td>\n",
       "      <td>569.000</td>\n",
       "      <td>569.000</td>\n",
       "      <td>569.000</td>\n",
       "      <td>569.000</td>\n",
       "      <td>569.000</td>\n",
       "      <td>569.000</td>\n",
       "      <td>569.000</td>\n",
       "      <td>569.000</td>\n",
       "      <td>...</td>\n",
       "      <td>569.000</td>\n",
       "      <td>569.000</td>\n",
       "      <td>569.000</td>\n",
       "      <td>569.000</td>\n",
       "      <td>569.000</td>\n",
       "      <td>569.000</td>\n",
       "      <td>569.000</td>\n",
       "      <td>569.000</td>\n",
       "      <td>569.000</td>\n",
       "      <td>569.000</td>\n",
       "    </tr>\n",
       "    <tr>\n",
       "      <th>mean</th>\n",
       "      <td>14.127</td>\n",
       "      <td>19.290</td>\n",
       "      <td>91.969</td>\n",
       "      <td>654.889</td>\n",
       "      <td>0.096</td>\n",
       "      <td>0.104</td>\n",
       "      <td>0.089</td>\n",
       "      <td>0.049</td>\n",
       "      <td>0.181</td>\n",
       "      <td>0.063</td>\n",
       "      <td>...</td>\n",
       "      <td>25.677</td>\n",
       "      <td>107.261</td>\n",
       "      <td>880.583</td>\n",
       "      <td>0.132</td>\n",
       "      <td>0.254</td>\n",
       "      <td>0.272</td>\n",
       "      <td>0.115</td>\n",
       "      <td>0.290</td>\n",
       "      <td>0.084</td>\n",
       "      <td>0.627</td>\n",
       "    </tr>\n",
       "    <tr>\n",
       "      <th>std</th>\n",
       "      <td>3.524</td>\n",
       "      <td>4.301</td>\n",
       "      <td>24.299</td>\n",
       "      <td>351.914</td>\n",
       "      <td>0.014</td>\n",
       "      <td>0.053</td>\n",
       "      <td>0.080</td>\n",
       "      <td>0.039</td>\n",
       "      <td>0.027</td>\n",
       "      <td>0.007</td>\n",
       "      <td>...</td>\n",
       "      <td>6.146</td>\n",
       "      <td>33.603</td>\n",
       "      <td>569.357</td>\n",
       "      <td>0.023</td>\n",
       "      <td>0.157</td>\n",
       "      <td>0.209</td>\n",
       "      <td>0.066</td>\n",
       "      <td>0.062</td>\n",
       "      <td>0.018</td>\n",
       "      <td>0.484</td>\n",
       "    </tr>\n",
       "    <tr>\n",
       "      <th>min</th>\n",
       "      <td>6.981</td>\n",
       "      <td>9.710</td>\n",
       "      <td>43.790</td>\n",
       "      <td>143.500</td>\n",
       "      <td>0.053</td>\n",
       "      <td>0.019</td>\n",
       "      <td>0.000</td>\n",
       "      <td>0.000</td>\n",
       "      <td>0.106</td>\n",
       "      <td>0.050</td>\n",
       "      <td>...</td>\n",
       "      <td>12.020</td>\n",
       "      <td>50.410</td>\n",
       "      <td>185.200</td>\n",
       "      <td>0.071</td>\n",
       "      <td>0.027</td>\n",
       "      <td>0.000</td>\n",
       "      <td>0.000</td>\n",
       "      <td>0.156</td>\n",
       "      <td>0.055</td>\n",
       "      <td>0.000</td>\n",
       "    </tr>\n",
       "    <tr>\n",
       "      <th>25%</th>\n",
       "      <td>11.700</td>\n",
       "      <td>16.170</td>\n",
       "      <td>75.170</td>\n",
       "      <td>420.300</td>\n",
       "      <td>0.086</td>\n",
       "      <td>0.065</td>\n",
       "      <td>0.030</td>\n",
       "      <td>0.020</td>\n",
       "      <td>0.162</td>\n",
       "      <td>0.058</td>\n",
       "      <td>...</td>\n",
       "      <td>21.080</td>\n",
       "      <td>84.110</td>\n",
       "      <td>515.300</td>\n",
       "      <td>0.117</td>\n",
       "      <td>0.147</td>\n",
       "      <td>0.114</td>\n",
       "      <td>0.065</td>\n",
       "      <td>0.250</td>\n",
       "      <td>0.071</td>\n",
       "      <td>0.000</td>\n",
       "    </tr>\n",
       "    <tr>\n",
       "      <th>50%</th>\n",
       "      <td>13.370</td>\n",
       "      <td>18.840</td>\n",
       "      <td>86.240</td>\n",
       "      <td>551.100</td>\n",
       "      <td>0.096</td>\n",
       "      <td>0.093</td>\n",
       "      <td>0.062</td>\n",
       "      <td>0.034</td>\n",
       "      <td>0.179</td>\n",
       "      <td>0.062</td>\n",
       "      <td>...</td>\n",
       "      <td>25.410</td>\n",
       "      <td>97.660</td>\n",
       "      <td>686.500</td>\n",
       "      <td>0.131</td>\n",
       "      <td>0.212</td>\n",
       "      <td>0.227</td>\n",
       "      <td>0.100</td>\n",
       "      <td>0.282</td>\n",
       "      <td>0.080</td>\n",
       "      <td>1.000</td>\n",
       "    </tr>\n",
       "    <tr>\n",
       "      <th>75%</th>\n",
       "      <td>15.780</td>\n",
       "      <td>21.800</td>\n",
       "      <td>104.100</td>\n",
       "      <td>782.700</td>\n",
       "      <td>0.105</td>\n",
       "      <td>0.130</td>\n",
       "      <td>0.131</td>\n",
       "      <td>0.074</td>\n",
       "      <td>0.196</td>\n",
       "      <td>0.066</td>\n",
       "      <td>...</td>\n",
       "      <td>29.720</td>\n",
       "      <td>125.400</td>\n",
       "      <td>1084.000</td>\n",
       "      <td>0.146</td>\n",
       "      <td>0.339</td>\n",
       "      <td>0.383</td>\n",
       "      <td>0.161</td>\n",
       "      <td>0.318</td>\n",
       "      <td>0.092</td>\n",
       "      <td>1.000</td>\n",
       "    </tr>\n",
       "    <tr>\n",
       "      <th>max</th>\n",
       "      <td>28.110</td>\n",
       "      <td>39.280</td>\n",
       "      <td>188.500</td>\n",
       "      <td>2501.000</td>\n",
       "      <td>0.163</td>\n",
       "      <td>0.345</td>\n",
       "      <td>0.427</td>\n",
       "      <td>0.201</td>\n",
       "      <td>0.304</td>\n",
       "      <td>0.097</td>\n",
       "      <td>...</td>\n",
       "      <td>49.540</td>\n",
       "      <td>251.200</td>\n",
       "      <td>4254.000</td>\n",
       "      <td>0.223</td>\n",
       "      <td>1.058</td>\n",
       "      <td>1.252</td>\n",
       "      <td>0.291</td>\n",
       "      <td>0.664</td>\n",
       "      <td>0.208</td>\n",
       "      <td>1.000</td>\n",
       "    </tr>\n",
       "  </tbody>\n",
       "</table>\n",
       "<p>8 rows × 31 columns</p>\n",
       "</div>"
      ],
      "text/plain": [
       "       mean radius  mean texture  mean perimeter  mean area  mean smoothness  \\\n",
       "count      569.000       569.000         569.000    569.000          569.000   \n",
       "mean        14.127        19.290          91.969    654.889            0.096   \n",
       "std          3.524         4.301          24.299    351.914            0.014   \n",
       "min          6.981         9.710          43.790    143.500            0.053   \n",
       "25%         11.700        16.170          75.170    420.300            0.086   \n",
       "50%         13.370        18.840          86.240    551.100            0.096   \n",
       "75%         15.780        21.800         104.100    782.700            0.105   \n",
       "max         28.110        39.280         188.500   2501.000            0.163   \n",
       "\n",
       "       mean compactness  mean concavity  mean concave points  mean symmetry  \\\n",
       "count           569.000         569.000              569.000        569.000   \n",
       "mean              0.104           0.089                0.049          0.181   \n",
       "std               0.053           0.080                0.039          0.027   \n",
       "min               0.019           0.000                0.000          0.106   \n",
       "25%               0.065           0.030                0.020          0.162   \n",
       "50%               0.093           0.062                0.034          0.179   \n",
       "75%               0.130           0.131                0.074          0.196   \n",
       "max               0.345           0.427                0.201          0.304   \n",
       "\n",
       "       mean fractal dimension  ...  worst texture  worst perimeter  \\\n",
       "count                 569.000  ...        569.000          569.000   \n",
       "mean                    0.063  ...         25.677          107.261   \n",
       "std                     0.007  ...          6.146           33.603   \n",
       "min                     0.050  ...         12.020           50.410   \n",
       "25%                     0.058  ...         21.080           84.110   \n",
       "50%                     0.062  ...         25.410           97.660   \n",
       "75%                     0.066  ...         29.720          125.400   \n",
       "max                     0.097  ...         49.540          251.200   \n",
       "\n",
       "       worst area  worst smoothness  worst compactness  worst concavity  \\\n",
       "count     569.000           569.000            569.000          569.000   \n",
       "mean      880.583             0.132              0.254            0.272   \n",
       "std       569.357             0.023              0.157            0.209   \n",
       "min       185.200             0.071              0.027            0.000   \n",
       "25%       515.300             0.117              0.147            0.114   \n",
       "50%       686.500             0.131              0.212            0.227   \n",
       "75%      1084.000             0.146              0.339            0.383   \n",
       "max      4254.000             0.223              1.058            1.252   \n",
       "\n",
       "       worst concave points  worst symmetry  worst fractal dimension    label  \n",
       "count               569.000         569.000                  569.000  569.000  \n",
       "mean                  0.115           0.290                    0.084    0.627  \n",
       "std                   0.066           0.062                    0.018    0.484  \n",
       "min                   0.000           0.156                    0.055    0.000  \n",
       "25%                   0.065           0.250                    0.071    0.000  \n",
       "50%                   0.100           0.282                    0.080    1.000  \n",
       "75%                   0.161           0.318                    0.092    1.000  \n",
       "max                   0.291           0.664                    0.208    1.000  \n",
       "\n",
       "[8 rows x 31 columns]"
      ]
     },
     "execution_count": 130,
     "metadata": {},
     "output_type": "execute_result"
    }
   ],
   "source": [
    "data_frame.describe().round(3) # EDA"
   ]
  },
  {
   "cell_type": "code",
   "execution_count": 131,
   "id": "666a828c-ac01-49d3-9cf1-e8b5e0badba6",
   "metadata": {},
   "outputs": [
    {
     "data": {
      "text/plain": [
       "label\n",
       "1    357\n",
       "0    212\n",
       "Name: count, dtype: int64"
      ]
     },
     "execution_count": 131,
     "metadata": {},
     "output_type": "execute_result"
    }
   ],
   "source": [
    "data_frame['label'].value_counts()"
   ]
  },
  {
   "cell_type": "code",
   "execution_count": null,
   "id": "2213edba-856b-40a2-967b-2c151845860d",
   "metadata": {},
   "outputs": [],
   "source": [
    "# Undersampling\n",
    "# Oversampling - "
   ]
  },
  {
   "cell_type": "code",
   "execution_count": 133,
   "id": "5521f6d5-81c9-4fa0-aaf4-30efbfa40f3c",
   "metadata": {},
   "outputs": [
    {
     "data": {
      "text/html": [
       "<div>\n",
       "<style scoped>\n",
       "    .dataframe tbody tr th:only-of-type {\n",
       "        vertical-align: middle;\n",
       "    }\n",
       "\n",
       "    .dataframe tbody tr th {\n",
       "        vertical-align: top;\n",
       "    }\n",
       "\n",
       "    .dataframe thead th {\n",
       "        text-align: right;\n",
       "    }\n",
       "</style>\n",
       "<table border=\"1\" class=\"dataframe\">\n",
       "  <thead>\n",
       "    <tr style=\"text-align: right;\">\n",
       "      <th>label</th>\n",
       "      <th>0</th>\n",
       "      <th>1</th>\n",
       "    </tr>\n",
       "  </thead>\n",
       "  <tbody>\n",
       "    <tr>\n",
       "      <th>mean radius</th>\n",
       "      <td>17.462830</td>\n",
       "      <td>12.146524</td>\n",
       "    </tr>\n",
       "    <tr>\n",
       "      <th>mean texture</th>\n",
       "      <td>21.604906</td>\n",
       "      <td>17.914762</td>\n",
       "    </tr>\n",
       "    <tr>\n",
       "      <th>mean perimeter</th>\n",
       "      <td>115.365377</td>\n",
       "      <td>78.075406</td>\n",
       "    </tr>\n",
       "    <tr>\n",
       "      <th>mean area</th>\n",
       "      <td>978.376415</td>\n",
       "      <td>462.790196</td>\n",
       "    </tr>\n",
       "    <tr>\n",
       "      <th>mean smoothness</th>\n",
       "      <td>0.102898</td>\n",
       "      <td>0.092478</td>\n",
       "    </tr>\n",
       "    <tr>\n",
       "      <th>mean compactness</th>\n",
       "      <td>0.145188</td>\n",
       "      <td>0.080085</td>\n",
       "    </tr>\n",
       "    <tr>\n",
       "      <th>mean concavity</th>\n",
       "      <td>0.160775</td>\n",
       "      <td>0.046058</td>\n",
       "    </tr>\n",
       "    <tr>\n",
       "      <th>mean concave points</th>\n",
       "      <td>0.087990</td>\n",
       "      <td>0.025717</td>\n",
       "    </tr>\n",
       "    <tr>\n",
       "      <th>mean symmetry</th>\n",
       "      <td>0.192909</td>\n",
       "      <td>0.174186</td>\n",
       "    </tr>\n",
       "    <tr>\n",
       "      <th>mean fractal dimension</th>\n",
       "      <td>0.062680</td>\n",
       "      <td>0.062867</td>\n",
       "    </tr>\n",
       "    <tr>\n",
       "      <th>radius error</th>\n",
       "      <td>0.609083</td>\n",
       "      <td>0.284082</td>\n",
       "    </tr>\n",
       "    <tr>\n",
       "      <th>texture error</th>\n",
       "      <td>1.210915</td>\n",
       "      <td>1.220380</td>\n",
       "    </tr>\n",
       "    <tr>\n",
       "      <th>perimeter error</th>\n",
       "      <td>4.323929</td>\n",
       "      <td>2.000321</td>\n",
       "    </tr>\n",
       "    <tr>\n",
       "      <th>area error</th>\n",
       "      <td>72.672406</td>\n",
       "      <td>21.135148</td>\n",
       "    </tr>\n",
       "    <tr>\n",
       "      <th>smoothness error</th>\n",
       "      <td>0.006780</td>\n",
       "      <td>0.007196</td>\n",
       "    </tr>\n",
       "    <tr>\n",
       "      <th>compactness error</th>\n",
       "      <td>0.032281</td>\n",
       "      <td>0.021438</td>\n",
       "    </tr>\n",
       "    <tr>\n",
       "      <th>concavity error</th>\n",
       "      <td>0.041824</td>\n",
       "      <td>0.025997</td>\n",
       "    </tr>\n",
       "    <tr>\n",
       "      <th>concave points error</th>\n",
       "      <td>0.015060</td>\n",
       "      <td>0.009858</td>\n",
       "    </tr>\n",
       "    <tr>\n",
       "      <th>symmetry error</th>\n",
       "      <td>0.020472</td>\n",
       "      <td>0.020584</td>\n",
       "    </tr>\n",
       "    <tr>\n",
       "      <th>fractal dimension error</th>\n",
       "      <td>0.004062</td>\n",
       "      <td>0.003636</td>\n",
       "    </tr>\n",
       "    <tr>\n",
       "      <th>worst radius</th>\n",
       "      <td>21.134811</td>\n",
       "      <td>13.379801</td>\n",
       "    </tr>\n",
       "    <tr>\n",
       "      <th>worst texture</th>\n",
       "      <td>29.318208</td>\n",
       "      <td>23.515070</td>\n",
       "    </tr>\n",
       "    <tr>\n",
       "      <th>worst perimeter</th>\n",
       "      <td>141.370330</td>\n",
       "      <td>87.005938</td>\n",
       "    </tr>\n",
       "    <tr>\n",
       "      <th>worst area</th>\n",
       "      <td>1422.286321</td>\n",
       "      <td>558.899440</td>\n",
       "    </tr>\n",
       "    <tr>\n",
       "      <th>worst smoothness</th>\n",
       "      <td>0.144845</td>\n",
       "      <td>0.124959</td>\n",
       "    </tr>\n",
       "    <tr>\n",
       "      <th>worst compactness</th>\n",
       "      <td>0.374824</td>\n",
       "      <td>0.182673</td>\n",
       "    </tr>\n",
       "    <tr>\n",
       "      <th>worst concavity</th>\n",
       "      <td>0.450606</td>\n",
       "      <td>0.166238</td>\n",
       "    </tr>\n",
       "    <tr>\n",
       "      <th>worst concave points</th>\n",
       "      <td>0.182237</td>\n",
       "      <td>0.074444</td>\n",
       "    </tr>\n",
       "    <tr>\n",
       "      <th>worst symmetry</th>\n",
       "      <td>0.323468</td>\n",
       "      <td>0.270246</td>\n",
       "    </tr>\n",
       "    <tr>\n",
       "      <th>worst fractal dimension</th>\n",
       "      <td>0.091530</td>\n",
       "      <td>0.079442</td>\n",
       "    </tr>\n",
       "  </tbody>\n",
       "</table>\n",
       "</div>"
      ],
      "text/plain": [
       "label                              0           1\n",
       "mean radius                17.462830   12.146524\n",
       "mean texture               21.604906   17.914762\n",
       "mean perimeter            115.365377   78.075406\n",
       "mean area                 978.376415  462.790196\n",
       "mean smoothness             0.102898    0.092478\n",
       "mean compactness            0.145188    0.080085\n",
       "mean concavity              0.160775    0.046058\n",
       "mean concave points         0.087990    0.025717\n",
       "mean symmetry               0.192909    0.174186\n",
       "mean fractal dimension      0.062680    0.062867\n",
       "radius error                0.609083    0.284082\n",
       "texture error               1.210915    1.220380\n",
       "perimeter error             4.323929    2.000321\n",
       "area error                 72.672406   21.135148\n",
       "smoothness error            0.006780    0.007196\n",
       "compactness error           0.032281    0.021438\n",
       "concavity error             0.041824    0.025997\n",
       "concave points error        0.015060    0.009858\n",
       "symmetry error              0.020472    0.020584\n",
       "fractal dimension error     0.004062    0.003636\n",
       "worst radius               21.134811   13.379801\n",
       "worst texture              29.318208   23.515070\n",
       "worst perimeter           141.370330   87.005938\n",
       "worst area               1422.286321  558.899440\n",
       "worst smoothness            0.144845    0.124959\n",
       "worst compactness           0.374824    0.182673\n",
       "worst concavity             0.450606    0.166238\n",
       "worst concave points        0.182237    0.074444\n",
       "worst symmetry              0.323468    0.270246\n",
       "worst fractal dimension     0.091530    0.079442"
      ]
     },
     "execution_count": 133,
     "metadata": {},
     "output_type": "execute_result"
    }
   ],
   "source": [
    "data_frame.groupby('label').mean().T"
   ]
  },
  {
   "cell_type": "code",
   "execution_count": null,
   "id": "5249b392-c537-4c05-94de-918da3bbc21a",
   "metadata": {},
   "outputs": [],
   "source": [
    "data_frame.info()\n",
    "data_frame.isnull().sum()\n",
    "data_frame.describe().round(3)\n",
    "data_frame['label'].value_counts()\n",
    "\n",
    "data_frame.groupby('label').mean()\n",
    "# data_frame.groupby('label').mean().T"
   ]
  },
  {
   "cell_type": "code",
   "execution_count": 134,
   "id": "1553c2ff-c98d-41cd-b054-4a1a0b42e9ec",
   "metadata": {},
   "outputs": [],
   "source": [
    "# Split the data into training and test sets\n",
    "X_train, X_test, y_train, y_test = train_test_split(X, y, test_size=0.2, random_state=42)"
   ]
  },
  {
   "cell_type": "code",
   "execution_count": 135,
   "id": "354c9f1d-a7c0-4d94-9d85-a7ed8b21fae1",
   "metadata": {},
   "outputs": [
    {
     "data": {
      "text/plain": [
       "(569, 31)"
      ]
     },
     "execution_count": 135,
     "metadata": {},
     "output_type": "execute_result"
    }
   ],
   "source": [
    "df.shape"
   ]
  },
  {
   "cell_type": "code",
   "execution_count": 136,
   "id": "27b3df79-6ea9-41dc-9b06-c3f3d66f4763",
   "metadata": {},
   "outputs": [
    {
     "name": "stdout",
     "output_type": "stream",
     "text": [
      "(455, 30) (114, 30)\n"
     ]
    }
   ],
   "source": [
    "print(X_train.shape, X_test.shape)"
   ]
  },
  {
   "cell_type": "code",
   "execution_count": 97,
   "id": "b3136e2f-bd20-4e4c-ba99-0b8f252db810",
   "metadata": {},
   "outputs": [],
   "source": [
    "# 1. Handling Data Imbalance Undersampling\n",
    "from sklearn.utils import resample\n",
    "\n",
    "# Combine the data back into a DataFrame for easier manipulation\n",
    "df = pd.DataFrame(X_train, columns=data.feature_names)\n",
    "df['target'] = y_train\n",
    "\n",
    "# Separate majority and minority classes\n",
    "df_majority = df[df['target'] == 1]\n",
    "df_minority = df[df['target'] == 0]\n",
    "\n",
    "# Undersample the majority class\n",
    "df_majority_downsampled = resample(df_majority,\n",
    "                                   replace=False,    # Sample without replacement\n",
    "                                   n_samples=df_minority.shape[0],  # Match minority class size\n",
    "                                   random_state=42) # Reproducibility\n",
    "\n",
    "# Combine the undersampled majority class with the minority class\n",
    "df_balanced = pd.concat([df_majority_downsampled, df_minority])\n",
    "\n",
    "# Separate features and target\n",
    "X_train_balanced = df_balanced.drop('target', axis=1)\n",
    "y_train_balanced = df_balanced['target']\n"
   ]
  },
  {
   "cell_type": "code",
   "execution_count": 105,
   "id": "a67abe4c-dee4-4f95-86ad-b8d7aa816031",
   "metadata": {},
   "outputs": [
    {
     "data": {
      "text/plain": [
       "(286, 31)"
      ]
     },
     "execution_count": 105,
     "metadata": {},
     "output_type": "execute_result"
    }
   ],
   "source": [
    "df_majority.shape"
   ]
  },
  {
   "cell_type": "code",
   "execution_count": 106,
   "id": "e5014d5e-0bd0-4182-a16a-44df7bf19b81",
   "metadata": {},
   "outputs": [
    {
     "data": {
      "text/plain": [
       "(169, 31)"
      ]
     },
     "execution_count": 106,
     "metadata": {},
     "output_type": "execute_result"
    }
   ],
   "source": [
    "df_minority.shape"
   ]
  },
  {
   "cell_type": "code",
   "execution_count": 104,
   "id": "54bc9215-f7d7-436f-b8c0-15be169ea7cb",
   "metadata": {},
   "outputs": [
    {
     "data": {
      "text/plain": [
       "target\n",
       "1    169\n",
       "0    169\n",
       "Name: count, dtype: int64"
      ]
     },
     "execution_count": 104,
     "metadata": {},
     "output_type": "execute_result"
    }
   ],
   "source": [
    "df_balanced['target'].value_counts()"
   ]
  },
  {
   "cell_type": "code",
   "execution_count": 100,
   "id": "30965d15-ace8-43fb-8e35-6fbdc708a938",
   "metadata": {
    "jupyter": {
     "source_hidden": true
    }
   },
   "outputs": [
    {
     "name": "stdout",
     "output_type": "stream",
     "text": [
      "Epoch 1/20\n",
      "\u001b[1m9/9\u001b[0m \u001b[32m━━━━━━━━━━━━━━━━━━━━\u001b[0m\u001b[37m\u001b[0m \u001b[1m1s\u001b[0m 12ms/step - accuracy: 0.4286 - loss: 0.7336 - val_accuracy: 0.6912 - val_loss: 0.5903\n",
      "Epoch 2/20\n",
      "\u001b[1m9/9\u001b[0m \u001b[32m━━━━━━━━━━━━━━━━━━━━\u001b[0m\u001b[37m\u001b[0m \u001b[1m0s\u001b[0m 3ms/step - accuracy: 0.8977 - loss: 0.4432 - val_accuracy: 0.8529 - val_loss: 0.4757\n",
      "Epoch 3/20\n",
      "\u001b[1m9/9\u001b[0m \u001b[32m━━━━━━━━━━━━━━━━━━━━\u001b[0m\u001b[37m\u001b[0m \u001b[1m0s\u001b[0m 3ms/step - accuracy: 0.9140 - loss: 0.3064 - val_accuracy: 0.8529 - val_loss: 0.4068\n",
      "Epoch 4/20\n",
      "\u001b[1m9/9\u001b[0m \u001b[32m━━━━━━━━━━━━━━━━━━━━\u001b[0m\u001b[37m\u001b[0m \u001b[1m0s\u001b[0m 3ms/step - accuracy: 0.9417 - loss: 0.2280 - val_accuracy: 0.8529 - val_loss: 0.3536\n",
      "Epoch 5/20\n",
      "\u001b[1m9/9\u001b[0m \u001b[32m━━━━━━━━━━━━━━━━━━━━\u001b[0m\u001b[37m\u001b[0m \u001b[1m0s\u001b[0m 3ms/step - accuracy: 0.9528 - loss: 0.1773 - val_accuracy: 0.8529 - val_loss: 0.3088\n",
      "Epoch 6/20\n",
      "\u001b[1m9/9\u001b[0m \u001b[32m━━━━━━━━━━━━━━━━━━━━\u001b[0m\u001b[37m\u001b[0m \u001b[1m0s\u001b[0m 3ms/step - accuracy: 0.9560 - loss: 0.1416 - val_accuracy: 0.8824 - val_loss: 0.2705\n",
      "Epoch 7/20\n",
      "\u001b[1m9/9\u001b[0m \u001b[32m━━━━━━━━━━━━━━━━━━━━\u001b[0m\u001b[37m\u001b[0m \u001b[1m0s\u001b[0m 3ms/step - accuracy: 0.9704 - loss: 0.1156 - val_accuracy: 0.8971 - val_loss: 0.2399\n",
      "Epoch 8/20\n",
      "\u001b[1m9/9\u001b[0m \u001b[32m━━━━━━━━━━━━━━━━━━━━\u001b[0m\u001b[37m\u001b[0m \u001b[1m0s\u001b[0m 3ms/step - accuracy: 0.9765 - loss: 0.0964 - val_accuracy: 0.8971 - val_loss: 0.2176\n",
      "Epoch 9/20\n",
      "\u001b[1m9/9\u001b[0m \u001b[32m━━━━━━━━━━━━━━━━━━━━\u001b[0m\u001b[37m\u001b[0m \u001b[1m0s\u001b[0m 3ms/step - accuracy: 0.9873 - loss: 0.0815 - val_accuracy: 0.9118 - val_loss: 0.2020\n",
      "Epoch 10/20\n",
      "\u001b[1m9/9\u001b[0m \u001b[32m━━━━━━━━━━━━━━━━━━━━\u001b[0m\u001b[37m\u001b[0m \u001b[1m0s\u001b[0m 3ms/step - accuracy: 0.9961 - loss: 0.0696 - val_accuracy: 0.8971 - val_loss: 0.1920\n",
      "Epoch 11/20\n",
      "\u001b[1m9/9\u001b[0m \u001b[32m━━━━━━━━━━━━━━━━━━━━\u001b[0m\u001b[37m\u001b[0m \u001b[1m0s\u001b[0m 3ms/step - accuracy: 0.9961 - loss: 0.0603 - val_accuracy: 0.9265 - val_loss: 0.1863\n",
      "Epoch 12/20\n",
      "\u001b[1m9/9\u001b[0m \u001b[32m━━━━━━━━━━━━━━━━━━━━\u001b[0m\u001b[37m\u001b[0m \u001b[1m0s\u001b[0m 3ms/step - accuracy: 0.9961 - loss: 0.0529 - val_accuracy: 0.9265 - val_loss: 0.1832\n",
      "Epoch 13/20\n",
      "\u001b[1m9/9\u001b[0m \u001b[32m━━━━━━━━━━━━━━━━━━━━\u001b[0m\u001b[37m\u001b[0m \u001b[1m0s\u001b[0m 3ms/step - accuracy: 0.9989 - loss: 0.0467 - val_accuracy: 0.9265 - val_loss: 0.1817\n",
      "Epoch 14/20\n",
      "\u001b[1m9/9\u001b[0m \u001b[32m━━━━━━━━━━━━━━━━━━━━\u001b[0m\u001b[37m\u001b[0m \u001b[1m0s\u001b[0m 3ms/step - accuracy: 0.9989 - loss: 0.0417 - val_accuracy: 0.9265 - val_loss: 0.1805\n",
      "Epoch 15/20\n",
      "\u001b[1m9/9\u001b[0m \u001b[32m━━━━━━━━━━━━━━━━━━━━\u001b[0m\u001b[37m\u001b[0m \u001b[1m0s\u001b[0m 3ms/step - accuracy: 0.9989 - loss: 0.0375 - val_accuracy: 0.9265 - val_loss: 0.1795\n",
      "Epoch 16/20\n",
      "\u001b[1m9/9\u001b[0m \u001b[32m━━━━━━━━━━━━━━━━━━━━\u001b[0m\u001b[37m\u001b[0m \u001b[1m0s\u001b[0m 3ms/step - accuracy: 0.9989 - loss: 0.0341 - val_accuracy: 0.9265 - val_loss: 0.1790\n",
      "Epoch 17/20\n",
      "\u001b[1m9/9\u001b[0m \u001b[32m━━━━━━━━━━━━━━━━━━━━\u001b[0m\u001b[37m\u001b[0m \u001b[1m0s\u001b[0m 3ms/step - accuracy: 0.9989 - loss: 0.0311 - val_accuracy: 0.9265 - val_loss: 0.1790\n",
      "Epoch 18/20\n",
      "\u001b[1m9/9\u001b[0m \u001b[32m━━━━━━━━━━━━━━━━━━━━\u001b[0m\u001b[37m\u001b[0m \u001b[1m0s\u001b[0m 3ms/step - accuracy: 0.9989 - loss: 0.0286 - val_accuracy: 0.9265 - val_loss: 0.1793\n",
      "Epoch 19/20\n",
      "\u001b[1m9/9\u001b[0m \u001b[32m━━━━━━━━━━━━━━━━━━━━\u001b[0m\u001b[37m\u001b[0m \u001b[1m0s\u001b[0m 3ms/step - accuracy: 0.9989 - loss: 0.0264 - val_accuracy: 0.9265 - val_loss: 0.1800\n",
      "Epoch 20/20\n",
      "\u001b[1m9/9\u001b[0m \u001b[32m━━━━━━━━━━━━━━━━━━━━\u001b[0m\u001b[37m\u001b[0m \u001b[1m0s\u001b[0m 3ms/step - accuracy: 0.9989 - loss: 0.0245 - val_accuracy: 0.9265 - val_loss: 0.1811\n"
     ]
    }
   ],
   "source": [
    "# 2. Rebuild and Train the Model with Balanced Data\n",
    "# Standardize the balanced training data\n",
    "X_train_balanced = scaler.fit_transform(X_train_balanced)\n",
    "\n",
    "# Define the model (same as before)\n",
    "model = Sequential([\n",
    "    Input(shape=(X_train_balanced.shape[1],)),\n",
    "    Dense(64, activation='relu'),\n",
    "    Dense(32, activation='relu'),\n",
    "    Dense(1, activation='sigmoid')\n",
    "])\n",
    "\n",
    "model.compile(optimizer='adam',\n",
    "              loss='binary_crossentropy',\n",
    "              metrics=['accuracy'])\n",
    "\n",
    "# Train the model with the balanced data\n",
    "history = model.fit(X_train_balanced, y_train_balanced, epochs=20, batch_size=32, validation_split=0.2, verbose=1)\n"
   ]
  },
  {
   "cell_type": "code",
   "execution_count": 137,
   "id": "f9f4540f-ea2c-4609-9a46-cef5e7621a49",
   "metadata": {},
   "outputs": [
    {
     "data": {
      "text/html": [
       "<div>\n",
       "<style scoped>\n",
       "    .dataframe tbody tr th:only-of-type {\n",
       "        vertical-align: middle;\n",
       "    }\n",
       "\n",
       "    .dataframe tbody tr th {\n",
       "        vertical-align: top;\n",
       "    }\n",
       "\n",
       "    .dataframe thead th {\n",
       "        text-align: right;\n",
       "    }\n",
       "</style>\n",
       "<table border=\"1\" class=\"dataframe\">\n",
       "  <thead>\n",
       "    <tr style=\"text-align: right;\">\n",
       "      <th></th>\n",
       "      <th>mean radius</th>\n",
       "      <th>mean texture</th>\n",
       "      <th>mean perimeter</th>\n",
       "      <th>mean area</th>\n",
       "      <th>mean smoothness</th>\n",
       "      <th>mean compactness</th>\n",
       "      <th>mean concavity</th>\n",
       "      <th>mean concave points</th>\n",
       "      <th>mean symmetry</th>\n",
       "      <th>mean fractal dimension</th>\n",
       "      <th>...</th>\n",
       "      <th>worst texture</th>\n",
       "      <th>worst perimeter</th>\n",
       "      <th>worst area</th>\n",
       "      <th>worst smoothness</th>\n",
       "      <th>worst compactness</th>\n",
       "      <th>worst concavity</th>\n",
       "      <th>worst concave points</th>\n",
       "      <th>worst symmetry</th>\n",
       "      <th>worst fractal dimension</th>\n",
       "      <th>target</th>\n",
       "    </tr>\n",
       "  </thead>\n",
       "  <tbody>\n",
       "    <tr>\n",
       "      <th>0</th>\n",
       "      <td>17.99</td>\n",
       "      <td>10.38</td>\n",
       "      <td>122.80</td>\n",
       "      <td>1001.0</td>\n",
       "      <td>0.11840</td>\n",
       "      <td>0.27760</td>\n",
       "      <td>0.3001</td>\n",
       "      <td>0.14710</td>\n",
       "      <td>0.2419</td>\n",
       "      <td>0.07871</td>\n",
       "      <td>...</td>\n",
       "      <td>17.33</td>\n",
       "      <td>184.60</td>\n",
       "      <td>2019.0</td>\n",
       "      <td>0.1622</td>\n",
       "      <td>0.6656</td>\n",
       "      <td>0.7119</td>\n",
       "      <td>0.2654</td>\n",
       "      <td>0.4601</td>\n",
       "      <td>0.11890</td>\n",
       "      <td>0</td>\n",
       "    </tr>\n",
       "    <tr>\n",
       "      <th>1</th>\n",
       "      <td>20.57</td>\n",
       "      <td>17.77</td>\n",
       "      <td>132.90</td>\n",
       "      <td>1326.0</td>\n",
       "      <td>0.08474</td>\n",
       "      <td>0.07864</td>\n",
       "      <td>0.0869</td>\n",
       "      <td>0.07017</td>\n",
       "      <td>0.1812</td>\n",
       "      <td>0.05667</td>\n",
       "      <td>...</td>\n",
       "      <td>23.41</td>\n",
       "      <td>158.80</td>\n",
       "      <td>1956.0</td>\n",
       "      <td>0.1238</td>\n",
       "      <td>0.1866</td>\n",
       "      <td>0.2416</td>\n",
       "      <td>0.1860</td>\n",
       "      <td>0.2750</td>\n",
       "      <td>0.08902</td>\n",
       "      <td>0</td>\n",
       "    </tr>\n",
       "    <tr>\n",
       "      <th>2</th>\n",
       "      <td>19.69</td>\n",
       "      <td>21.25</td>\n",
       "      <td>130.00</td>\n",
       "      <td>1203.0</td>\n",
       "      <td>0.10960</td>\n",
       "      <td>0.15990</td>\n",
       "      <td>0.1974</td>\n",
       "      <td>0.12790</td>\n",
       "      <td>0.2069</td>\n",
       "      <td>0.05999</td>\n",
       "      <td>...</td>\n",
       "      <td>25.53</td>\n",
       "      <td>152.50</td>\n",
       "      <td>1709.0</td>\n",
       "      <td>0.1444</td>\n",
       "      <td>0.4245</td>\n",
       "      <td>0.4504</td>\n",
       "      <td>0.2430</td>\n",
       "      <td>0.3613</td>\n",
       "      <td>0.08758</td>\n",
       "      <td>0</td>\n",
       "    </tr>\n",
       "    <tr>\n",
       "      <th>3</th>\n",
       "      <td>11.42</td>\n",
       "      <td>20.38</td>\n",
       "      <td>77.58</td>\n",
       "      <td>386.1</td>\n",
       "      <td>0.14250</td>\n",
       "      <td>0.28390</td>\n",
       "      <td>0.2414</td>\n",
       "      <td>0.10520</td>\n",
       "      <td>0.2597</td>\n",
       "      <td>0.09744</td>\n",
       "      <td>...</td>\n",
       "      <td>26.50</td>\n",
       "      <td>98.87</td>\n",
       "      <td>567.7</td>\n",
       "      <td>0.2098</td>\n",
       "      <td>0.8663</td>\n",
       "      <td>0.6869</td>\n",
       "      <td>0.2575</td>\n",
       "      <td>0.6638</td>\n",
       "      <td>0.17300</td>\n",
       "      <td>0</td>\n",
       "    </tr>\n",
       "    <tr>\n",
       "      <th>4</th>\n",
       "      <td>20.29</td>\n",
       "      <td>14.34</td>\n",
       "      <td>135.10</td>\n",
       "      <td>1297.0</td>\n",
       "      <td>0.10030</td>\n",
       "      <td>0.13280</td>\n",
       "      <td>0.1980</td>\n",
       "      <td>0.10430</td>\n",
       "      <td>0.1809</td>\n",
       "      <td>0.05883</td>\n",
       "      <td>...</td>\n",
       "      <td>16.67</td>\n",
       "      <td>152.20</td>\n",
       "      <td>1575.0</td>\n",
       "      <td>0.1374</td>\n",
       "      <td>0.2050</td>\n",
       "      <td>0.4000</td>\n",
       "      <td>0.1625</td>\n",
       "      <td>0.2364</td>\n",
       "      <td>0.07678</td>\n",
       "      <td>0</td>\n",
       "    </tr>\n",
       "  </tbody>\n",
       "</table>\n",
       "<p>5 rows × 31 columns</p>\n",
       "</div>"
      ],
      "text/plain": [
       "   mean radius  mean texture  mean perimeter  mean area  mean smoothness  \\\n",
       "0        17.99         10.38          122.80     1001.0          0.11840   \n",
       "1        20.57         17.77          132.90     1326.0          0.08474   \n",
       "2        19.69         21.25          130.00     1203.0          0.10960   \n",
       "3        11.42         20.38           77.58      386.1          0.14250   \n",
       "4        20.29         14.34          135.10     1297.0          0.10030   \n",
       "\n",
       "   mean compactness  mean concavity  mean concave points  mean symmetry  \\\n",
       "0           0.27760          0.3001              0.14710         0.2419   \n",
       "1           0.07864          0.0869              0.07017         0.1812   \n",
       "2           0.15990          0.1974              0.12790         0.2069   \n",
       "3           0.28390          0.2414              0.10520         0.2597   \n",
       "4           0.13280          0.1980              0.10430         0.1809   \n",
       "\n",
       "   mean fractal dimension  ...  worst texture  worst perimeter  worst area  \\\n",
       "0                 0.07871  ...          17.33           184.60      2019.0   \n",
       "1                 0.05667  ...          23.41           158.80      1956.0   \n",
       "2                 0.05999  ...          25.53           152.50      1709.0   \n",
       "3                 0.09744  ...          26.50            98.87       567.7   \n",
       "4                 0.05883  ...          16.67           152.20      1575.0   \n",
       "\n",
       "   worst smoothness  worst compactness  worst concavity  worst concave points  \\\n",
       "0            0.1622             0.6656           0.7119                0.2654   \n",
       "1            0.1238             0.1866           0.2416                0.1860   \n",
       "2            0.1444             0.4245           0.4504                0.2430   \n",
       "3            0.2098             0.8663           0.6869                0.2575   \n",
       "4            0.1374             0.2050           0.4000                0.1625   \n",
       "\n",
       "   worst symmetry  worst fractal dimension  target  \n",
       "0          0.4601                  0.11890       0  \n",
       "1          0.2750                  0.08902       0  \n",
       "2          0.3613                  0.08758       0  \n",
       "3          0.6638                  0.17300       0  \n",
       "4          0.2364                  0.07678       0  \n",
       "\n",
       "[5 rows x 31 columns]"
      ]
     },
     "execution_count": 137,
     "metadata": {},
     "output_type": "execute_result"
    }
   ],
   "source": [
    "df.head()"
   ]
  },
  {
   "cell_type": "markdown",
   "id": "2538fe3d-d248-4953-b9ce-8b5592f315a3",
   "metadata": {},
   "source": [
    "# 3. Feature Scaling\n",
    "\n",
    "Neural networks usually perform better when features are scaled. Here we'll use standard scaling."
   ]
  },
  {
   "cell_type": "code",
   "execution_count": 138,
   "id": "0abbbc58-483b-470f-a88d-45ca6aa29eb9",
   "metadata": {},
   "outputs": [],
   "source": [
    "# Standardize the features\n",
    "scaler = StandardScaler()\n",
    "X_train = scaler.fit_transform(X_train)\n",
    "X_test = scaler.transform(X_test)"
   ]
  },
  {
   "cell_type": "code",
   "execution_count": 140,
   "id": "796fbf18-be35-41f5-b20a-8dbf5f86123c",
   "metadata": {},
   "outputs": [
    {
     "data": {
      "text/plain": [
       "array([[-1.44075296, -0.43531947, -1.36208497, ...,  0.9320124 ,\n",
       "         2.09724217,  1.88645014],\n",
       "       [ 1.97409619,  1.73302577,  2.09167167, ...,  2.6989469 ,\n",
       "         1.89116053,  2.49783848],\n",
       "       [-1.39998202, -1.24962228, -1.34520926, ..., -0.97023893,\n",
       "         0.59760192,  0.0578942 ],\n",
       "       ...,\n",
       "       [ 0.04880192, -0.55500086, -0.06512547, ..., -1.23903365,\n",
       "        -0.70863864, -1.27145475],\n",
       "       [-0.03896885,  0.10207345, -0.03137406, ...,  1.05001236,\n",
       "         0.43432185,  1.21336207],\n",
       "       [-0.54860557,  0.31327591, -0.60350155, ..., -0.61102866,\n",
       "        -0.3345212 , -0.84628745]])"
      ]
     },
     "execution_count": 140,
     "metadata": {},
     "output_type": "execute_result"
    }
   ],
   "source": [
    "X_train"
   ]
  },
  {
   "cell_type": "code",
   "execution_count": 141,
   "id": "530b625c-a933-4adc-b587-f8194f3dc2b8",
   "metadata": {},
   "outputs": [
    {
     "data": {
      "text/plain": [
       "(455, 30)"
      ]
     },
     "execution_count": 141,
     "metadata": {},
     "output_type": "execute_result"
    }
   ],
   "source": [
    "X_train.shape"
   ]
  },
  {
   "cell_type": "markdown",
   "id": "c06c7c9d-1c15-442b-8d8b-4ad53ede326b",
   "metadata": {},
   "source": [
    "# 4. Build the Neural Network Model"
   ]
  },
  {
   "cell_type": "code",
   "execution_count": 143,
   "id": "cb6ea14a-b7da-4b81-9a81-abda97df14df",
   "metadata": {},
   "outputs": [],
   "source": [
    "# Define the model\n",
    "model = Sequential([\n",
    "    Input(shape=(X_train.shape[1],)),  # Specify input shape using Input layer\n",
    "    Dense(64, activation='relu'),\n",
    "    Dense(32, activation='relu'),\n",
    "    # Dense(100, activation='relu'),\n",
    "    Dense(1, activation='sigmoid')\n",
    "])"
   ]
  },
  {
   "cell_type": "code",
   "execution_count": 145,
   "id": "2c51ec59-a6db-4676-91ab-9c9ef389f7b2",
   "metadata": {},
   "outputs": [],
   "source": [
    "# Compile the model\n",
    "model.compile(optimizer='adam',\n",
    "              loss='binary_crossentropy',\n",
    "              metrics=['accuracy'])"
   ]
  },
  {
   "cell_type": "markdown",
   "id": "56b4f35e-c659-402a-9307-99694ed0cbd4",
   "metadata": {},
   "source": [
    "# 5. Train the Model"
   ]
  },
  {
   "cell_type": "code",
   "execution_count": 146,
   "id": "bff18cc1-688a-4b29-ada3-8e009f6b6dfb",
   "metadata": {},
   "outputs": [
    {
     "name": "stdout",
     "output_type": "stream",
     "text": [
      "Epoch 1/20\n",
      "\u001b[1m12/12\u001b[0m \u001b[32m━━━━━━━━━━━━━━━━━━━━\u001b[0m\u001b[37m\u001b[0m \u001b[1m1s\u001b[0m 10ms/step - accuracy: 0.5046 - loss: 0.7443 - val_accuracy: 0.9121 - val_loss: 0.4550\n",
      "Epoch 2/20\n",
      "\u001b[1m12/12\u001b[0m \u001b[32m━━━━━━━━━━━━━━━━━━━━\u001b[0m\u001b[37m\u001b[0m \u001b[1m0s\u001b[0m 3ms/step - accuracy: 0.9426 - loss: 0.4077 - val_accuracy: 0.9560 - val_loss: 0.2844\n",
      "Epoch 3/20\n",
      "\u001b[1m12/12\u001b[0m \u001b[32m━━━━━━━━━━━━━━━━━━━━\u001b[0m\u001b[37m\u001b[0m \u001b[1m0s\u001b[0m 3ms/step - accuracy: 0.9444 - loss: 0.2498 - val_accuracy: 0.9560 - val_loss: 0.2024\n",
      "Epoch 4/20\n",
      "\u001b[1m12/12\u001b[0m \u001b[32m━━━━━━━━━━━━━━━━━━━━\u001b[0m\u001b[37m\u001b[0m \u001b[1m0s\u001b[0m 3ms/step - accuracy: 0.9521 - loss: 0.1754 - val_accuracy: 0.9560 - val_loss: 0.1637\n",
      "Epoch 5/20\n",
      "\u001b[1m12/12\u001b[0m \u001b[32m━━━━━━━━━━━━━━━━━━━━\u001b[0m\u001b[37m\u001b[0m \u001b[1m0s\u001b[0m 3ms/step - accuracy: 0.9588 - loss: 0.1373 - val_accuracy: 0.9560 - val_loss: 0.1433\n",
      "Epoch 6/20\n",
      "\u001b[1m12/12\u001b[0m \u001b[32m━━━━━━━━━━━━━━━━━━━━\u001b[0m\u001b[37m\u001b[0m \u001b[1m0s\u001b[0m 3ms/step - accuracy: 0.9713 - loss: 0.1124 - val_accuracy: 0.9560 - val_loss: 0.1311\n",
      "Epoch 7/20\n",
      "\u001b[1m12/12\u001b[0m \u001b[32m━━━━━━━━━━━━━━━━━━━━\u001b[0m\u001b[37m\u001b[0m \u001b[1m0s\u001b[0m 3ms/step - accuracy: 0.9829 - loss: 0.0950 - val_accuracy: 0.9560 - val_loss: 0.1240\n",
      "Epoch 8/20\n",
      "\u001b[1m12/12\u001b[0m \u001b[32m━━━━━━━━━━━━━━━━━━━━\u001b[0m\u001b[37m\u001b[0m \u001b[1m0s\u001b[0m 2ms/step - accuracy: 0.9811 - loss: 0.0825 - val_accuracy: 0.9560 - val_loss: 0.1197\n",
      "Epoch 9/20\n",
      "\u001b[1m12/12\u001b[0m \u001b[32m━━━━━━━━━━━━━━━━━━━━\u001b[0m\u001b[37m\u001b[0m \u001b[1m0s\u001b[0m 2ms/step - accuracy: 0.9811 - loss: 0.0732 - val_accuracy: 0.9560 - val_loss: 0.1170\n",
      "Epoch 10/20\n",
      "\u001b[1m12/12\u001b[0m \u001b[32m━━━━━━━━━━━━━━━━━━━━\u001b[0m\u001b[37m\u001b[0m \u001b[1m0s\u001b[0m 2ms/step - accuracy: 0.9829 - loss: 0.0660 - val_accuracy: 0.9560 - val_loss: 0.1152\n",
      "Epoch 11/20\n",
      "\u001b[1m12/12\u001b[0m \u001b[32m━━━━━━━━━━━━━━━━━━━━\u001b[0m\u001b[37m\u001b[0m \u001b[1m0s\u001b[0m 2ms/step - accuracy: 0.9829 - loss: 0.0605 - val_accuracy: 0.9560 - val_loss: 0.1139\n",
      "Epoch 12/20\n",
      "\u001b[1m12/12\u001b[0m \u001b[32m━━━━━━━━━━━━━━━━━━━━\u001b[0m\u001b[37m\u001b[0m \u001b[1m0s\u001b[0m 3ms/step - accuracy: 0.9829 - loss: 0.0561 - val_accuracy: 0.9560 - val_loss: 0.1129\n",
      "Epoch 13/20\n",
      "\u001b[1m12/12\u001b[0m \u001b[32m━━━━━━━━━━━━━━━━━━━━\u001b[0m\u001b[37m\u001b[0m \u001b[1m0s\u001b[0m 3ms/step - accuracy: 0.9829 - loss: 0.0522 - val_accuracy: 0.9560 - val_loss: 0.1121\n",
      "Epoch 14/20\n",
      "\u001b[1m12/12\u001b[0m \u001b[32m━━━━━━━━━━━━━━━━━━━━\u001b[0m\u001b[37m\u001b[0m \u001b[1m0s\u001b[0m 3ms/step - accuracy: 0.9829 - loss: 0.0489 - val_accuracy: 0.9560 - val_loss: 0.1116\n",
      "Epoch 15/20\n",
      "\u001b[1m12/12\u001b[0m \u001b[32m━━━━━━━━━━━━━━━━━━━━\u001b[0m\u001b[37m\u001b[0m \u001b[1m0s\u001b[0m 3ms/step - accuracy: 0.9829 - loss: 0.0460 - val_accuracy: 0.9560 - val_loss: 0.1111\n",
      "Epoch 16/20\n",
      "\u001b[1m12/12\u001b[0m \u001b[32m━━━━━━━━━━━━━━━━━━━━\u001b[0m\u001b[37m\u001b[0m \u001b[1m0s\u001b[0m 2ms/step - accuracy: 0.9829 - loss: 0.0434 - val_accuracy: 0.9451 - val_loss: 0.1106\n",
      "Epoch 17/20\n",
      "\u001b[1m12/12\u001b[0m \u001b[32m━━━━━━━━━━━━━━━━━━━━\u001b[0m\u001b[37m\u001b[0m \u001b[1m0s\u001b[0m 3ms/step - accuracy: 0.9829 - loss: 0.0409 - val_accuracy: 0.9451 - val_loss: 0.1104\n",
      "Epoch 18/20\n",
      "\u001b[1m12/12\u001b[0m \u001b[32m━━━━━━━━━━━━━━━━━━━━\u001b[0m\u001b[37m\u001b[0m \u001b[1m0s\u001b[0m 3ms/step - accuracy: 0.9906 - loss: 0.0386 - val_accuracy: 0.9451 - val_loss: 0.1104\n",
      "Epoch 19/20\n",
      "\u001b[1m12/12\u001b[0m \u001b[32m━━━━━━━━━━━━━━━━━━━━\u001b[0m\u001b[37m\u001b[0m \u001b[1m0s\u001b[0m 2ms/step - accuracy: 0.9917 - loss: 0.0366 - val_accuracy: 0.9560 - val_loss: 0.1104\n",
      "Epoch 20/20\n",
      "\u001b[1m12/12\u001b[0m \u001b[32m━━━━━━━━━━━━━━━━━━━━\u001b[0m\u001b[37m\u001b[0m \u001b[1m0s\u001b[0m 3ms/step - accuracy: 0.9917 - loss: 0.0347 - val_accuracy: 0.9560 - val_loss: 0.1104\n"
     ]
    }
   ],
   "source": [
    "# Train the model\n",
    "history = model.fit(X_train, y_train, epochs=20, batch_size=32, validation_split=0.2, verbose=1)"
   ]
  },
  {
   "cell_type": "markdown",
   "id": "9c9f4401-a34f-4ab6-a816-739b7d03832c",
   "metadata": {},
   "source": [
    "# 6. Evaluate the Model"
   ]
  },
  {
   "cell_type": "code",
   "execution_count": 147,
   "id": "2164948b-9348-4383-afca-d5e04cc196a6",
   "metadata": {},
   "outputs": [
    {
     "name": "stdout",
     "output_type": "stream",
     "text": [
      "\u001b[1m4/4\u001b[0m \u001b[32m━━━━━━━━━━━━━━━━━━━━\u001b[0m\u001b[37m\u001b[0m \u001b[1m0s\u001b[0m 1ms/step - accuracy: 0.9707 - loss: 0.0807 \n",
      "Test Loss: 0.06696794927120209\n",
      "Test Accuracy: 0.9736841917037964\n"
     ]
    }
   ],
   "source": [
    "# Evaluate the model on the test set\n",
    "test_loss, test_accuracy = model.evaluate(X_test, y_test, verbose=1)\n",
    "print(f\"Test Loss: {test_loss}\")\n",
    "print(f\"Test Accuracy: {test_accuracy}\")"
   ]
  },
  {
   "cell_type": "code",
   "execution_count": 150,
   "id": "6779bf1c-bfef-4325-af76-5aac9ea037b6",
   "metadata": {},
   "outputs": [
    {
     "data": {
      "text/plain": [
       "(114, 30)"
      ]
     },
     "execution_count": 150,
     "metadata": {},
     "output_type": "execute_result"
    }
   ],
   "source": [
    "X_test.shape"
   ]
  },
  {
   "cell_type": "code",
   "execution_count": 152,
   "id": "a2416a9a-c10b-4db2-87dd-4b3c47ac66d5",
   "metadata": {},
   "outputs": [
    {
     "name": "stdout",
     "output_type": "stream",
     "text": [
      "\u001b[1m4/4\u001b[0m \u001b[32m━━━━━━━━━━━━━━━━━━━━\u001b[0m\u001b[37m\u001b[0m \u001b[1m0s\u001b[0m 333us/step\n",
      "[1 0 0 1 1 0 0 0 1 1 1 0 1 0 1 0 1 1 1 0 1 1 0 1 1 1 1 1 1 0 1 1 1 1 1 1 0\n",
      " 1 0 1 1 0 1 1 1 1 1 1 1 1 0 0 0 1 1 1 1 0 0 1 1 0 0 1 1 1 0 0 1 1 0 0 1 0\n",
      " 1 1 1 1 1 1 0 1 0 0 0 0 0 0 1 1 1 1 1 1 1 1 0 0 1 0 0 1 0 0 1 1 1 0 1 1 0\n",
      " 1 1 0]\n",
      "              precision    recall  f1-score   support\n",
      "\n",
      "           0       0.98      0.95      0.96        43\n",
      "           1       0.97      0.99      0.98        71\n",
      "\n",
      "    accuracy                           0.97       114\n",
      "   macro avg       0.97      0.97      0.97       114\n",
      "weighted avg       0.97      0.97      0.97       114\n",
      "\n"
     ]
    }
   ],
   "source": [
    "# Make predictions\n",
    "y_pred_probs = model.predict(X_test)\n",
    "y_pred_labels = (y_pred_probs > 0.5).astype(int).flatten()\n",
    "y_pred_probs.round(3)\n",
    "print(y_pred_labels)\n",
    "# Print classification report\n",
    "print(classification_report(y_test, y_pred_labels))"
   ]
  },
  {
   "cell_type": "code",
   "execution_count": 153,
   "id": "b70deb25-12cc-48e2-96f9-bf4594c2b311",
   "metadata": {},
   "outputs": [
    {
     "name": "stdout",
     "output_type": "stream",
     "text": [
      "Confusion Matrix:\n",
      " [[41  2]\n",
      " [ 1 70]]\n"
     ]
    }
   ],
   "source": [
    "conf_matrix = confusion_matrix(y_test, y_pred_labels)\n",
    "print(\"Confusion Matrix:\\n\", conf_matrix)"
   ]
  },
  {
   "cell_type": "code",
   "execution_count": 95,
   "id": "3dfc42f2-d7a7-4e77-a67e-db3433a34db5",
   "metadata": {},
   "outputs": [
    {
     "data": {
      "image/png": "[encoded data removed]",
      "text/plain": [
       "<Figure size 800x600 with 2 Axes>"
      ]
     },
     "metadata": {},
     "output_type": "display_data"
    }
   ],
   "source": [
    "# Optionally, plot the confusion matrix\n",
    "import seaborn as sns\n",
    "\n",
    "plt.figure(figsize=(8, 6))\n",
    "sns.heatmap(conf_matrix, annot=True, fmt='d', cmap='Blues', \n",
    "            xticklabels=['Class 0', 'Class 1'], \n",
    "            yticklabels=['Class 0', 'Class 1'])\n",
    "plt.xlabel('Predicted Label')\n",
    "plt.ylabel('True Label')\n",
    "plt.title('Confusion Matrix')\n",
    "plt.show()"
   ]
  },
  {
   "cell_type": "markdown",
   "id": "545a70e5-8991-4b5b-8654-4645214d47b5",
   "metadata": {},
   "source": [
    "# 7. Plot Training History (Optional)"
   ]
  },
  {
   "cell_type": "code",
   "execution_count": 76,
   "id": "ac2ad16d-a034-4b27-b63c-e9e45b507bce",
   "metadata": {},
   "outputs": [
    {
     "data": {
      "image/png": "[encoded data removed]",
      "text/plain": [
       "<Figure size 640x480 with 1 Axes>"
      ]
     },
     "metadata": {},
     "output_type": "display_data"
    },
    {
     "data": {
      "image/png": "[encoded data removed]",
      "text/plain": [
       "<Figure size 640x480 with 1 Axes>"
      ]
     },
     "metadata": {},
     "output_type": "display_data"
    }
   ],
   "source": [
    "# Plot training and validation accuracy\n",
    "plt.plot(history.history['accuracy'], label='Training Accuracy')\n",
    "plt.plot(history.history['val_accuracy'], label='Validation Accuracy')\n",
    "plt.xlabel('Epoch')\n",
    "plt.ylabel('Accuracy')\n",
    "plt.legend()\n",
    "plt.show()\n",
    "\n",
    "# Plot training and validation loss\n",
    "plt.plot(history.history['loss'], label='Training Loss')\n",
    "plt.plot(history.history['val_loss'], label='Validation Loss')\n",
    "plt.xlabel('Epoch')\n",
    "plt.ylabel('Loss')\n",
    "plt.legend()\n",
    "plt.show()\n"
   ]
  },
  {
   "cell_type": "markdown",
   "id": "164e5ce8-84b2-4cdf-a3e7-6453eb624735",
   "metadata": {},
   "source": [
    "# Make Prediction"
   ]
  },
  {
   "cell_type": "code",
   "execution_count": 154,
   "id": "2c0a4e40-223b-4309-b10b-a454120b0f8e",
   "metadata": {},
   "outputs": [],
   "source": [
    "# Define and standardize the input data\n",
    "input_data = [8.76, 3, 74.72, 307.9, 0.08637, 0.04966, 0.01657, 0.01115, 0.1495, 0.05888, \n",
    "               0.302, 1.21, 2, 19.47, 0.005857, 0.009758, 0.01168, 0.007445, 0.02406, \n",
    "               0.001769, 12.98, 25.72, 82.98, 516.5, 0.1085, 0.08615, 0.05523, 0.03715, 0.2433, \n",
    "               0.06563]"
   ]
  },
  {
   "cell_type": "code",
   "execution_count": 155,
   "id": "2b64a202-979d-4e79-9447-cb4d2ff5402a",
   "metadata": {},
   "outputs": [],
   "source": [
    "input_data = np.array(input_data)"
   ]
  },
  {
   "cell_type": "code",
   "execution_count": 156,
   "id": "4db21866-d522-4374-b0d4-31c9f5e7bfd3",
   "metadata": {},
   "outputs": [
    {
     "data": {
      "text/plain": [
       "array([8.760e+00, 3.000e+00, 7.472e+01, 3.079e+02, 8.637e-02, 4.966e-02,\n",
       "       1.657e-02, 1.115e-02, 1.495e-01, 5.888e-02, 3.020e-01, 1.210e+00,\n",
       "       2.000e+00, 1.947e+01, 5.857e-03, 9.758e-03, 1.168e-02, 7.445e-03,\n",
       "       2.406e-02, 1.769e-03, 1.298e+01, 2.572e+01, 8.298e+01, 5.165e+02,\n",
       "       1.085e-01, 8.615e-02, 5.523e-02, 3.715e-02, 2.433e-01, 6.563e-02])"
      ]
     },
     "execution_count": 156,
     "metadata": {},
     "output_type": "execute_result"
    }
   ],
   "source": [
    "input_data"
   ]
  },
  {
   "cell_type": "code",
   "execution_count": 157,
   "id": "f682f019-54aa-449a-a1fe-a337755c7fe4",
   "metadata": {},
   "outputs": [
    {
     "data": {
      "text/plain": [
       "array([[8.760e+00, 3.000e+00, 7.472e+01, 3.079e+02, 8.637e-02, 4.966e-02,\n",
       "        1.657e-02, 1.115e-02, 1.495e-01, 5.888e-02, 3.020e-01, 1.210e+00,\n",
       "        2.000e+00, 1.947e+01, 5.857e-03, 9.758e-03, 1.168e-02, 7.445e-03,\n",
       "        2.406e-02, 1.769e-03, 1.298e+01, 2.572e+01, 8.298e+01, 5.165e+02,\n",
       "        1.085e-01, 8.615e-02, 5.523e-02, 3.715e-02, 2.433e-01, 6.563e-02]])"
      ]
     },
     "execution_count": 157,
     "metadata": {},
     "output_type": "execute_result"
    }
   ],
   "source": [
    "input_data = np.array(input_data).reshape(1, -1)\n",
    "input_data"
   ]
  },
  {
   "cell_type": "code",
   "execution_count": 158,
   "id": "cbab2a03-5664-4675-9fdd-23f63d6b3c34",
   "metadata": {},
   "outputs": [
    {
     "name": "stdout",
     "output_type": "stream",
     "text": [
      "\u001b[1m1/1\u001b[0m \u001b[32m━━━━━━━━━━━━━━━━━━━━\u001b[0m\u001b[37m\u001b[0m \u001b[1m0s\u001b[0m 16ms/step\n",
      "Predicted Probability: [[0.99986875]]\n",
      "Predicted Class Label: [1]\n"
     ]
    }
   ],
   "source": [
    "import numpy as np\n",
    "\n",
    "# Define and standardize the input data\n",
    "input_data = [8.76, 3, 74.72, 307.9, 0.08637, 0.04966, 0.01657, 0.01115, 0.1495, 0.05888, \n",
    "               0.302, 1.21, 2, 19.47, 0.005857, 0.009758, 0.01168, 0.007445, 0.02406, \n",
    "               0.001769, 12.98, 25.72, 82.98, 516.5, 0.1085, 0.08615, 0.05523, 0.03715, 0.2433, \n",
    "               0.06563]\n",
    "\n",
    "input_data = np.array(input_data).reshape(1, -1)\n",
    "\n",
    "# Assuming you have the scaler from training\n",
    "input_data = scaler.transform(input_data)\n",
    "\n",
    "# Make a prediction with the model\n",
    "y_pred_prob = model.predict(input_data)\n",
    "y_pred_label = (y_pred_prob > 0.5).astype(int).flatten()\n",
    "\n",
    "print(\"Predicted Probability:\", y_pred_prob)\n",
    "print(\"Predicted Class Label:\", y_pred_label)\n"
   ]
  },
  {
   "cell_type": "code",
   "execution_count": null,
   "id": "7a0ef129-24db-4087-92ad-ee2262500714",
   "metadata": {},
   "outputs": [],
   "source": [
    "pickle  (.pkl)\n",
    "joblib (.joblib)"
   ]
  },
  {
   "cell_type": "code",
   "execution_count": 117,
   "id": "2dbe9b6f-4ad1-4251-820f-9bf5ccd4729f",
   "metadata": {},
   "outputs": [
    {
     "name": "stdout",
     "output_type": "stream",
     "text": [
      "Model saved to 'breast_cancer_model.keras'\n"
     ]
    }
   ],
   "source": [
    "# Save the entire model including optimizer state\n",
    "model.save('breast_cancer_model.keras')\n",
    "print(\"Model saved to 'breast_cancer_model.keras'\")"
   ]
  },
  {
   "cell_type": "code",
   "execution_count": null,
   "id": "f7acd8eb-4de6-4d6d-a150-fea0e8234f01",
   "metadata": {},
   "outputs": [],
   "source": [
    "import tensoflow"
   ]
  },
  {
   "cell_type": "code",
   "execution_count": 159,
   "id": "a5099791-593d-43e7-9c9a-ffd41669243e",
   "metadata": {},
   "outputs": [
    {
     "name": "stdout",
     "output_type": "stream",
     "text": [
      "Model loaded from 'breast_cancer_model.keras'\n"
     ]
    },
    {
     "name": "stderr",
     "output_type": "stream",
     "text": [
      "C:\\Users\\zinmi\\anaconda3\\envs\\data_analysis_test\\lib\\site-packages\\keras\\src\\saving\\saving_lib.py:576: UserWarning: Skipping variable loading for optimizer 'rmsprop', because it has 8 variables whereas the saved optimizer has 14 variables. \n",
      "  saveable.load_own_variables(weights_store.get(inner_path))\n"
     ]
    }
   ],
   "source": [
    "# Load the entire model including optimizer state\n",
    "loaded_model = tf.keras.models.load_model('breast_cancer_model.keras')\n",
    "print(\"Model loaded from 'breast_cancer_model.keras'\")"
   ]
  },
  {
   "cell_type": "code",
   "execution_count": 119,
   "id": "2c80914e-df44-4f82-b78a-e1f5a16cdcc1",
   "metadata": {},
   "outputs": [
    {
     "name": "stdout",
     "output_type": "stream",
     "text": [
      "\u001b[1m1/1\u001b[0m \u001b[32m━━━━━━━━━━━━━━━━━━━━\u001b[0m\u001b[37m\u001b[0m \u001b[1m0s\u001b[0m 29ms/step\n",
      "Predicted Probability: [[0.]]\n",
      "Predicted Class Label: [0]\n"
     ]
    }
   ],
   "source": [
    "# Make a prediction with the loaded model\n",
    "input_data = [11.76, 21.6, 74.72, 427.9, 0.08637, 0.04966, 0.01657, 0.01115, 0.1495, 0.05888, \n",
    "               0.4062, 1.21, 2.635, 28.47, 0.005857, 0.009758, 0.01168, 0.007445, 0.02406, \n",
    "               0.001769, 12.98, 25.72, 82.98, 516.5, 0.1085, 0.08615, 0.05523, 0.03715, 0.2433, \n",
    "               0.06563]\n",
    "\n",
    "input_data = np.array(input_data).reshape(1, -1)\n",
    "input_data = scaler.transform(input_data)\n",
    "\n",
    "y_pred_prob = loaded_model.predict(input_data)\n",
    "y_pred_label = (y_pred_prob > 0.5).astype(int).flatten()\n",
    "\n",
    "print(\"Predicted Probability:\", y_pred_prob)\n",
    "print(\"Predicted Class Label:\", y_pred_label)"
   ]
  },
  {
   "cell_type": "code",
   "execution_count": null,
   "id": "9646c0be-3c47-46ff-96bb-423e6b428473",
   "metadata": {},
   "outputs": [],
   "source": [
    "# IRIS Data Logistc regression\n",
    "# Neural Network \n",
    "\n"
   ]
  },
  {
   "cell_type": "markdown",
   "id": "bd9b66db-18b4-4aad-9afd-1a272892437e",
   "metadata": {},
   "source": [
    "# IRIS FLower Classification (Neural Network)\n",
    "# neurons , layers\n",
    "\n",
    "Name, \n",
    "Date, \n",
    "Email, "
   ]
  },
  {
   "cell_type": "markdown",
   "id": "696fca7d-53de-4256-b48c-f3c824d6defa",
   "metadata": {},
   "source": [
    "# 1. Import Library"
   ]
  },
  {
   "cell_type": "code",
   "execution_count": null,
   "id": "0415e18b-a884-427c-95e2-eaa27e558503",
   "metadata": {},
   "outputs": [],
   "source": [
    "import pandas as pd # dataframe လုပ်ရန်"
   ]
  },
  {
   "cell_type": "markdown",
   "id": "a7f6247b-da50-464a-ae5b-60fee951db6f",
   "metadata": {},
   "source": []
  }
 ],
 "metadata": {
  "kernelspec": {
   "display_name": "Python 3 (ipykernel)",
   "language": "python",
   "name": "python3"
  },
  "language_info": {
   "codemirror_mode": {
    "name": "ipython",
    "version": 3
   },
   "file_extension": ".py",
   "mimetype": "text/x-python",
   "name": "python",
   "nbconvert_exporter": "python",
   "pygments_lexer": "ipython3",
   "version": "3.12.4"
  }
 },
 "nbformat": 4,
 "nbformat_minor": 5
}
